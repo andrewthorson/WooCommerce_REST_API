{
 "cells": [
  {
   "cell_type": "markdown",
   "metadata": {},
   "source": [
    "# WooCommerce Rest API: List all products"
   ]
  },
  {
   "cell_type": "markdown",
   "metadata": {},
   "source": [
    "<a href=\"https://woocommerce.github.io/woocommerce-rest-api-docs/#list-all-products\">Official Documentation</a>  \n",
    "<span style=\"color:red\">Note: WooCommerce REST API utilizes Python 2.7</span>\n",
    "## Summary\n",
    "This script retrieves all inventory data using two WooCommerce REST API endpoints:\n",
    "1. Retrieve products totals: \"This API lets you retrieve and view products totals report.\"<sup>1</sup>\n",
    "2. List all products: \"This API helps you to view all the products.\"<sup>2</sup>"
   ]
  },
  {
   "cell_type": "code",
   "execution_count": 1,
   "metadata": {},
   "outputs": [],
   "source": [
    "# import libraries\n",
    "from woocommerce import API\n",
    "import pandas as pd\n",
    "from math import ceil\n",
    "import json\n",
    "# import credentials\n",
    "import credentials"
   ]
  },
  {
   "cell_type": "code",
   "execution_count": 2,
   "metadata": {},
   "outputs": [],
   "source": [
    "# setup\n",
    "wcapi = API(\n",
    "    url= credentials.url,\n",
    "    consumer_key= credentials.consumer_key,\n",
    "    consumer_secret= credentials.consumer_secret,\n",
    "    version=\"wc/v3\"\n",
    ")"
   ]
  },
  {
   "cell_type": "code",
   "execution_count": 12,
   "metadata": {},
   "outputs": [],
   "source": [
    "def report_products_totals_sum():\n",
    "    \"\"\"\n",
    "    Retrieve products totals report and return sum of totals\n",
    "    \"\"\"\n",
    "    response = wcapi.get('reports/products/totals?total').text\n",
    "    total_df = pd.read_json(response)\n",
    "    return(total_df['total'].sum())"
   ]
  },
  {
   "cell_type": "code",
   "execution_count": 54,
   "metadata": {},
   "outputs": [],
   "source": [
    "def list_all_products(total, per_page_value):\n",
    "    \"\"\"\n",
    "    Retrieve all products\n",
    "    \"\"\"\n",
    "    response = wcapi.get('products?per_page=1')\n",
    "    columns = pd.read_json(response.text).columns\n",
    "    product_df = pd.DataFrame(columns=columns)\n",
    "    totals = int(ceil(total / per_page_value))\n",
    "    pagination_values = list(range(1, totals + 2))\n",
    "    for page in pagination_values:\n",
    "        response = wcapi.get('products?per_page={}&page={}'.format(per_page_value, page))\n",
    "        product_df = product_df.append(pd.read_json(response.text))\n",
    "    return(product_df)"
   ]
  },
  {
   "cell_type": "code",
   "execution_count": 55,
   "metadata": {},
   "outputs": [],
   "source": [
    "# construct dataframe from list_all_products responses\n",
    "all_products_df = list_all_products(report_products_totals_sum(), 100)"
   ]
  },
  {
   "cell_type": "code",
   "execution_count": 59,
   "metadata": {},
   "outputs": [
    {
     "name": "stdout",
     "output_type": "stream",
     "text": [
      "Export complete.\n"
     ]
    }
   ],
   "source": [
    "# export as tab-delimited values file\n",
    "all_products_df.to_csv('all_products.tsv', sep='\\t', index=False, mode='w', encoding='utf-8')\n",
    "print('Export complete.')"
   ]
  },
  {
   "cell_type": "markdown",
   "metadata": {},
   "source": [
    "## References\n",
    "1. Retrieve products totals. (n.d.). Retrieved February 1, 2019, from https://woocommerce.github.io/woocommerce-rest-api-docs/#retrieve-products-totals\n",
    "2. List all products. (n.d.). Retrieved February 1, 2019, from https://woocommerce.github.io/woocommerce-rest-api-docs/#retrieve-products-totals"
   ]
  }
 ],
 "metadata": {
  "kernelspec": {
   "display_name": "Python 2",
   "language": "python",
   "name": "python2"
  },
  "language_info": {
   "codemirror_mode": {
    "name": "ipython",
    "version": 2
   },
   "file_extension": ".py",
   "mimetype": "text/x-python",
   "name": "python",
   "nbconvert_exporter": "python",
   "pygments_lexer": "ipython2",
   "version": "2.7.15"
  }
 },
 "nbformat": 4,
 "nbformat_minor": 2
}
